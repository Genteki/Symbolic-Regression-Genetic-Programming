{
 "cells": [
  {
   "cell_type": "code",
   "execution_count": 1,
   "id": "44d0c9f3",
   "metadata": {},
   "outputs": [],
   "source": [
    "import numpy as np\n",
    "import matplotlib.pyplot as plt\n",
    "import seaborn as sns\n",
    "from symbolic_node import *\n",
    "from utils import *\n",
    "from genetic_programing import *\n",
    "sns.set_style(\"whitegrid\")\n",
    "\n",
    "with open(\"data/data.txt\") as ifile:\n",
    "    lines = ifile.readlines()\n",
    "    pts = np.array([line.strip().split(\",\") for line in lines],\n",
    "                   dtype=np.float32)\n",
    "x = pts[:,0]\n",
    "y = pts[:,1]"
   ]
  },
  {
   "cell_type": "markdown",
   "id": "0751d147",
   "metadata": {},
   "source": [
    "## GP"
   ]
  },
  {
   "cell_type": "code",
   "execution_count": 3,
   "id": "d0bec7af",
   "metadata": {
    "scrolled": true
   },
   "outputs": [
    {
     "name": "stderr",
     "output_type": "stream",
     "text": [
      "/Users/genteki/genteki's document/MECS4510 Evolutionary Computation/hw2/symbolic_node.py:22: RuntimeWarning: invalid value encountered in sin\n",
      "  return self.f(self.lchild.post_order_traverse_recursive(x))\n",
      "/Users/genteki/genteki's document/MECS4510 Evolutionary Computation/hw2/symbolic_node.py:22: RuntimeWarning: invalid value encountered in cos\n",
      "  return self.f(self.lchild.post_order_traverse_recursive(x))\n",
      "/Users/genteki/genteki's document/MECS4510 Evolutionary Computation/hw2/symbolic_node.py:24: RuntimeWarning: invalid value encountered in divide\n",
      "  return self.f(\n"
     ]
    },
    {
     "name": "stdout",
     "output_type": "stream",
     "text": [
      "0 5.104452822450419\n",
      "1 5.266788752127431\n",
      "2 5.746068615608131\n",
      "3 5.748773407202596\n",
      "4 5.945175710777676\n",
      "5 6.194371232524443\n",
      "6 6.831801776461413\n",
      "7 6.837040740935445\n",
      "8 6.847028608636973\n",
      "9 6.929060337019671\n",
      "10 6.9468457411833295\n",
      "11 8.109807516605235\n",
      "12 8.118374705566328\n",
      "13 8.150910634640693\n",
      "14 8.24490750705946\n",
      "15 8.251580703663581\n",
      "16 8.251580703663581\n"
     ]
    },
    {
     "name": "stderr",
     "output_type": "stream",
     "text": [
      "/Users/genteki/genteki's document/MECS4510 Evolutionary Computation/hw2/symbolic_node.py:24: RuntimeWarning: invalid value encountered in subtract\n",
      "  return self.f(\n"
     ]
    },
    {
     "name": "stdout",
     "output_type": "stream",
     "text": [
      "17 8.26119913993934\n",
      "18 8.350960305139374\n",
      "19 8.350960305139374\n",
      "20 8.568084195140878\n",
      "21 8.568084195140878\n",
      "22 8.568084195140878\n",
      "23 8.57263131862229\n",
      "24 8.595141184724058\n",
      "25 8.655020903112746\n",
      "26 8.685673224195632\n",
      "27 8.687374407320354\n",
      "28 8.75559664445309\n",
      "29 8.75559664445309\n",
      "30 8.841223379378034\n",
      "31 8.886036081545294\n",
      "32 8.999400096888342\n",
      "33 9.028510449490474\n",
      "34 9.028510449490474\n",
      "35 9.129075905177618\n",
      "36 9.129075905177618\n"
     ]
    },
    {
     "name": "stderr",
     "output_type": "stream",
     "text": [
      "/Users/genteki/genteki's document/MECS4510 Evolutionary Computation/hw2/symbolic_node.py:24: RuntimeWarning: invalid value encountered in multiply\n",
      "  return self.f(\n"
     ]
    },
    {
     "name": "stdout",
     "output_type": "stream",
     "text": [
      "37 9.162076199018792\n",
      "38 9.220907260024436\n",
      "39 9.220907260024436\n",
      "40 9.220907260024436\n",
      "41 9.25568713399782\n",
      "42 9.25718668355087\n",
      "43 9.284770574014958\n",
      "44 9.284770574014958\n",
      "45 9.284770574014958\n",
      "46 9.302874763109534\n",
      "47 9.305478545905274\n",
      "48 9.414298135429588\n",
      "49 9.422110463514327\n",
      "50 9.431679877941232\n",
      "51 9.431679877941232\n",
      "52 9.49418038342651\n",
      "53 9.51237905920114\n",
      "54 9.540374479187102\n",
      "55 9.546324140674033\n",
      "56 9.565065639610276\n",
      "57 9.571207221926835\n",
      "58 9.584260010765515\n",
      "59 9.637977866025675\n",
      "60 9.640984546365035\n",
      "61 9.64912645961504\n",
      "62 9.667701737637097\n",
      "63 9.679651480491769\n",
      "64 9.689675209901395\n",
      "65 9.699682568865153\n",
      "66 9.700375886894392\n",
      "67 9.70298600677341\n",
      "68 9.712670857470691\n",
      "69 9.727635228522123\n"
     ]
    },
    {
     "ename": "KeyboardInterrupt",
     "evalue": "",
     "output_type": "error",
     "traceback": [
      "\u001b[0;31m---------------------------------------------------------------------------\u001b[0m",
      "\u001b[0;31mKeyboardInterrupt\u001b[0m                         Traceback (most recent call last)",
      "Cell \u001b[0;32mIn [3], line 4\u001b[0m\n\u001b[1;32m      2\u001b[0m gp\u001b[38;5;241m.\u001b[39minit_population()\n\u001b[1;32m      3\u001b[0m \u001b[38;5;28;01mfor\u001b[39;00m i \u001b[38;5;129;01min\u001b[39;00m \u001b[38;5;28mrange\u001b[39m(N_GENERATION):\n\u001b[0;32m----> 4\u001b[0m     \u001b[43mgp\u001b[49m\u001b[38;5;241;43m.\u001b[39;49m\u001b[43mevolve\u001b[49m\u001b[43m(\u001b[49m\u001b[43m)\u001b[49m\n\u001b[1;32m      5\u001b[0m     \u001b[38;5;28mprint\u001b[39m(i, gp\u001b[38;5;241m.\u001b[39mbest_fitness)\n",
      "File \u001b[0;32m~/genteki's document/MECS4510 Evolutionary Computation/hw2/genetic_programing.py:58\u001b[0m, in \u001b[0;36mGeneticPrograming.evolve\u001b[0;34m(self, n_generation)\u001b[0m\n\u001b[1;32m     56\u001b[0m \u001b[38;5;28;01mfor\u001b[39;00m i \u001b[38;5;129;01min\u001b[39;00m \u001b[38;5;28mrange\u001b[39m(\u001b[38;5;28mself\u001b[39m\u001b[38;5;241m.\u001b[39mpop_size):\n\u001b[1;32m     57\u001b[0m     parent_i \u001b[38;5;241m=\u001b[39m \u001b[38;5;28mself\u001b[39m\u001b[38;5;241m.\u001b[39m_tournament()\n\u001b[0;32m---> 58\u001b[0m     parent \u001b[38;5;241m=\u001b[39m \u001b[38;5;28;43mself\u001b[39;49m\u001b[38;5;241;43m.\u001b[39;49m\u001b[43mpop\u001b[49m\u001b[43m[\u001b[49m\u001b[43mparent_i\u001b[49m\u001b[43m]\u001b[49m\u001b[38;5;241;43m.\u001b[39;49m\u001b[43mcopy\u001b[49m\u001b[43m(\u001b[49m\u001b[43m)\u001b[49m\n\u001b[1;32m     59\u001b[0m     p \u001b[38;5;241m=\u001b[39m np\u001b[38;5;241m.\u001b[39mrandom\u001b[38;5;241m.\u001b[39mrand()\n\u001b[1;32m     60\u001b[0m     \u001b[38;5;28;01mif\u001b[39;00m p \u001b[38;5;241m<\u001b[39m \u001b[38;5;28mself\u001b[39m\u001b[38;5;241m.\u001b[39mevo_rate[\u001b[38;5;241m0\u001b[39m]:                \u001b[38;5;66;03m# crossover\u001b[39;00m\n",
      "File \u001b[0;32m~/genteki's document/MECS4510 Evolutionary Computation/hw2/symbolic_node.py:144\u001b[0m, in \u001b[0;36mSymbolicNode.copy\u001b[0;34m(self)\u001b[0m\n\u001b[1;32m    142\u001b[0m new_node\u001b[38;5;241m.\u001b[39mvalue \u001b[38;5;241m=\u001b[39m \u001b[38;5;28mself\u001b[39m\u001b[38;5;241m.\u001b[39mvalue\n\u001b[1;32m    143\u001b[0m \u001b[38;5;28;01mif\u001b[39;00m \u001b[38;5;129;01mnot\u001b[39;00m \u001b[38;5;28mself\u001b[39m\u001b[38;5;241m.\u001b[39mlchild \u001b[38;5;129;01mis\u001b[39;00m \u001b[38;5;28;01mNone\u001b[39;00m:\n\u001b[0;32m--> 144\u001b[0m     new_node\u001b[38;5;241m.\u001b[39mlchild \u001b[38;5;241m=\u001b[39m \u001b[38;5;28;43mself\u001b[39;49m\u001b[38;5;241;43m.\u001b[39;49m\u001b[43mlchild\u001b[49m\u001b[38;5;241;43m.\u001b[39;49m\u001b[43mcopy\u001b[49m\u001b[43m(\u001b[49m\u001b[43m)\u001b[49m\n\u001b[1;32m    145\u001b[0m \u001b[38;5;28;01mif\u001b[39;00m \u001b[38;5;129;01mnot\u001b[39;00m \u001b[38;5;28mself\u001b[39m\u001b[38;5;241m.\u001b[39mrchild \u001b[38;5;129;01mis\u001b[39;00m \u001b[38;5;28;01mNone\u001b[39;00m:\n\u001b[1;32m    146\u001b[0m     new_node\u001b[38;5;241m.\u001b[39mrchild \u001b[38;5;241m=\u001b[39m \u001b[38;5;28mself\u001b[39m\u001b[38;5;241m.\u001b[39mrchild\u001b[38;5;241m.\u001b[39mcopy()\n",
      "File \u001b[0;32m~/genteki's document/MECS4510 Evolutionary Computation/hw2/symbolic_node.py:144\u001b[0m, in \u001b[0;36mSymbolicNode.copy\u001b[0;34m(self)\u001b[0m\n\u001b[1;32m    142\u001b[0m new_node\u001b[38;5;241m.\u001b[39mvalue \u001b[38;5;241m=\u001b[39m \u001b[38;5;28mself\u001b[39m\u001b[38;5;241m.\u001b[39mvalue\n\u001b[1;32m    143\u001b[0m \u001b[38;5;28;01mif\u001b[39;00m \u001b[38;5;129;01mnot\u001b[39;00m \u001b[38;5;28mself\u001b[39m\u001b[38;5;241m.\u001b[39mlchild \u001b[38;5;129;01mis\u001b[39;00m \u001b[38;5;28;01mNone\u001b[39;00m:\n\u001b[0;32m--> 144\u001b[0m     new_node\u001b[38;5;241m.\u001b[39mlchild \u001b[38;5;241m=\u001b[39m \u001b[38;5;28;43mself\u001b[39;49m\u001b[38;5;241;43m.\u001b[39;49m\u001b[43mlchild\u001b[49m\u001b[38;5;241;43m.\u001b[39;49m\u001b[43mcopy\u001b[49m\u001b[43m(\u001b[49m\u001b[43m)\u001b[49m\n\u001b[1;32m    145\u001b[0m \u001b[38;5;28;01mif\u001b[39;00m \u001b[38;5;129;01mnot\u001b[39;00m \u001b[38;5;28mself\u001b[39m\u001b[38;5;241m.\u001b[39mrchild \u001b[38;5;129;01mis\u001b[39;00m \u001b[38;5;28;01mNone\u001b[39;00m:\n\u001b[1;32m    146\u001b[0m     new_node\u001b[38;5;241m.\u001b[39mrchild \u001b[38;5;241m=\u001b[39m \u001b[38;5;28mself\u001b[39m\u001b[38;5;241m.\u001b[39mrchild\u001b[38;5;241m.\u001b[39mcopy()\n",
      "    \u001b[0;31m[... skipping similar frames: SymbolicNode.copy at line 144 (3 times)]\u001b[0m\n",
      "File \u001b[0;32m~/genteki's document/MECS4510 Evolutionary Computation/hw2/symbolic_node.py:146\u001b[0m, in \u001b[0;36mSymbolicNode.copy\u001b[0;34m(self)\u001b[0m\n\u001b[1;32m    144\u001b[0m     new_node\u001b[38;5;241m.\u001b[39mlchild \u001b[38;5;241m=\u001b[39m \u001b[38;5;28mself\u001b[39m\u001b[38;5;241m.\u001b[39mlchild\u001b[38;5;241m.\u001b[39mcopy()\n\u001b[1;32m    145\u001b[0m \u001b[38;5;28;01mif\u001b[39;00m \u001b[38;5;129;01mnot\u001b[39;00m \u001b[38;5;28mself\u001b[39m\u001b[38;5;241m.\u001b[39mrchild \u001b[38;5;129;01mis\u001b[39;00m \u001b[38;5;28;01mNone\u001b[39;00m:\n\u001b[0;32m--> 146\u001b[0m     new_node\u001b[38;5;241m.\u001b[39mrchild \u001b[38;5;241m=\u001b[39m \u001b[38;5;28;43mself\u001b[39;49m\u001b[38;5;241;43m.\u001b[39;49m\u001b[43mrchild\u001b[49m\u001b[38;5;241;43m.\u001b[39;49m\u001b[43mcopy\u001b[49m\u001b[43m(\u001b[49m\u001b[43m)\u001b[49m\n\u001b[1;32m    147\u001b[0m \u001b[38;5;28;01mreturn\u001b[39;00m new_node\n",
      "File \u001b[0;32m~/genteki's document/MECS4510 Evolutionary Computation/hw2/symbolic_node.py:146\u001b[0m, in \u001b[0;36mSymbolicNode.copy\u001b[0;34m(self)\u001b[0m\n\u001b[1;32m    144\u001b[0m     new_node\u001b[38;5;241m.\u001b[39mlchild \u001b[38;5;241m=\u001b[39m \u001b[38;5;28mself\u001b[39m\u001b[38;5;241m.\u001b[39mlchild\u001b[38;5;241m.\u001b[39mcopy()\n\u001b[1;32m    145\u001b[0m \u001b[38;5;28;01mif\u001b[39;00m \u001b[38;5;129;01mnot\u001b[39;00m \u001b[38;5;28mself\u001b[39m\u001b[38;5;241m.\u001b[39mrchild \u001b[38;5;129;01mis\u001b[39;00m \u001b[38;5;28;01mNone\u001b[39;00m:\n\u001b[0;32m--> 146\u001b[0m     new_node\u001b[38;5;241m.\u001b[39mrchild \u001b[38;5;241m=\u001b[39m \u001b[38;5;28;43mself\u001b[39;49m\u001b[38;5;241;43m.\u001b[39;49m\u001b[43mrchild\u001b[49m\u001b[38;5;241;43m.\u001b[39;49m\u001b[43mcopy\u001b[49m\u001b[43m(\u001b[49m\u001b[43m)\u001b[49m\n\u001b[1;32m    147\u001b[0m \u001b[38;5;28;01mreturn\u001b[39;00m new_node\n",
      "    \u001b[0;31m[... skipping similar frames: SymbolicNode.copy at line 144 (12 times), SymbolicNode.copy at line 146 (8 times)]\u001b[0m\n",
      "File \u001b[0;32m~/genteki's document/MECS4510 Evolutionary Computation/hw2/symbolic_node.py:146\u001b[0m, in \u001b[0;36mSymbolicNode.copy\u001b[0;34m(self)\u001b[0m\n\u001b[1;32m    144\u001b[0m     new_node\u001b[38;5;241m.\u001b[39mlchild \u001b[38;5;241m=\u001b[39m \u001b[38;5;28mself\u001b[39m\u001b[38;5;241m.\u001b[39mlchild\u001b[38;5;241m.\u001b[39mcopy()\n\u001b[1;32m    145\u001b[0m \u001b[38;5;28;01mif\u001b[39;00m \u001b[38;5;129;01mnot\u001b[39;00m \u001b[38;5;28mself\u001b[39m\u001b[38;5;241m.\u001b[39mrchild \u001b[38;5;129;01mis\u001b[39;00m \u001b[38;5;28;01mNone\u001b[39;00m:\n\u001b[0;32m--> 146\u001b[0m     new_node\u001b[38;5;241m.\u001b[39mrchild \u001b[38;5;241m=\u001b[39m \u001b[38;5;28;43mself\u001b[39;49m\u001b[38;5;241;43m.\u001b[39;49m\u001b[43mrchild\u001b[49m\u001b[38;5;241;43m.\u001b[39;49m\u001b[43mcopy\u001b[49m\u001b[43m(\u001b[49m\u001b[43m)\u001b[49m\n\u001b[1;32m    147\u001b[0m \u001b[38;5;28;01mreturn\u001b[39;00m new_node\n",
      "    \u001b[0;31m[... skipping similar frames: SymbolicNode.copy at line 144 (2 times)]\u001b[0m\n",
      "File \u001b[0;32m~/genteki's document/MECS4510 Evolutionary Computation/hw2/symbolic_node.py:144\u001b[0m, in \u001b[0;36mSymbolicNode.copy\u001b[0;34m(self)\u001b[0m\n\u001b[1;32m    142\u001b[0m new_node\u001b[38;5;241m.\u001b[39mvalue \u001b[38;5;241m=\u001b[39m \u001b[38;5;28mself\u001b[39m\u001b[38;5;241m.\u001b[39mvalue\n\u001b[1;32m    143\u001b[0m \u001b[38;5;28;01mif\u001b[39;00m \u001b[38;5;129;01mnot\u001b[39;00m \u001b[38;5;28mself\u001b[39m\u001b[38;5;241m.\u001b[39mlchild \u001b[38;5;129;01mis\u001b[39;00m \u001b[38;5;28;01mNone\u001b[39;00m:\n\u001b[0;32m--> 144\u001b[0m     new_node\u001b[38;5;241m.\u001b[39mlchild \u001b[38;5;241m=\u001b[39m \u001b[38;5;28;43mself\u001b[39;49m\u001b[38;5;241;43m.\u001b[39;49m\u001b[43mlchild\u001b[49m\u001b[38;5;241;43m.\u001b[39;49m\u001b[43mcopy\u001b[49m\u001b[43m(\u001b[49m\u001b[43m)\u001b[49m\n\u001b[1;32m    145\u001b[0m \u001b[38;5;28;01mif\u001b[39;00m \u001b[38;5;129;01mnot\u001b[39;00m \u001b[38;5;28mself\u001b[39m\u001b[38;5;241m.\u001b[39mrchild \u001b[38;5;129;01mis\u001b[39;00m \u001b[38;5;28;01mNone\u001b[39;00m:\n\u001b[1;32m    146\u001b[0m     new_node\u001b[38;5;241m.\u001b[39mrchild \u001b[38;5;241m=\u001b[39m \u001b[38;5;28mself\u001b[39m\u001b[38;5;241m.\u001b[39mrchild\u001b[38;5;241m.\u001b[39mcopy()\n",
      "File \u001b[0;32m~/genteki's document/MECS4510 Evolutionary Computation/hw2/symbolic_node.py:138\u001b[0m, in \u001b[0;36mSymbolicNode.copy\u001b[0;34m(self)\u001b[0m\n\u001b[1;32m    137\u001b[0m \u001b[38;5;28;01mdef\u001b[39;00m \u001b[38;5;21mcopy\u001b[39m(\u001b[38;5;28mself\u001b[39m):\n\u001b[0;32m--> 138\u001b[0m     new_node \u001b[38;5;241m=\u001b[39m \u001b[43mSymbolicNode\u001b[49m\u001b[43m(\u001b[49m\u001b[43mdegree\u001b[49m\u001b[38;5;241;43m=\u001b[39;49m\u001b[38;5;28;43mself\u001b[39;49m\u001b[38;5;241;43m.\u001b[39;49m\u001b[43mdegree\u001b[49m\u001b[43m)\u001b[49m\n\u001b[1;32m    139\u001b[0m     new_node\u001b[38;5;241m.\u001b[39mf \u001b[38;5;241m=\u001b[39m \u001b[38;5;28mself\u001b[39m\u001b[38;5;241m.\u001b[39mf\n\u001b[1;32m    140\u001b[0m     new_node\u001b[38;5;241m.\u001b[39mvalue \u001b[38;5;241m=\u001b[39m \u001b[38;5;28mself\u001b[39m\u001b[38;5;241m.\u001b[39mvalue\n",
      "File \u001b[0;32m~/genteki's document/MECS4510 Evolutionary Computation/hw2/symbolic_node.py:6\u001b[0m, in \u001b[0;36mSymbolicNode.__init__\u001b[0;34m(self, degree, max_degree)\u001b[0m\n\u001b[1;32m      5\u001b[0m \u001b[38;5;28;01mdef\u001b[39;00m \u001b[38;5;21m__init__\u001b[39m(\u001b[38;5;28mself\u001b[39m, degree\u001b[38;5;241m=\u001b[39m\u001b[38;5;241m0\u001b[39m, max_degree\u001b[38;5;241m=\u001b[39m\u001b[38;5;241m10\u001b[39m):\n\u001b[0;32m----> 6\u001b[0m     \u001b[38;5;28;43mself\u001b[39;49m\u001b[38;5;241;43m.\u001b[39;49m\u001b[43mf\u001b[49m \u001b[38;5;241m=\u001b[39m \u001b[38;5;28;01mNone\u001b[39;00m\n\u001b[1;32m      7\u001b[0m     \u001b[38;5;28mself\u001b[39m\u001b[38;5;241m.\u001b[39mlchild \u001b[38;5;241m=\u001b[39m \u001b[38;5;28;01mNone\u001b[39;00m\n\u001b[1;32m      8\u001b[0m     \u001b[38;5;28mself\u001b[39m\u001b[38;5;241m.\u001b[39mrchild \u001b[38;5;241m=\u001b[39m \u001b[38;5;28;01mNone\u001b[39;00m\n",
      "\u001b[0;31mKeyboardInterrupt\u001b[0m: "
     ]
    }
   ],
   "source": [
    "gp = GeneticPrograming(x,y,one_over_mse)\n",
    "gp.init_population()\n",
    "for i in range(N_GENERATION):\n",
    "    gp.evolve()\n",
    "    print(i, gp.best_fitness)"
   ]
  },
  {
   "cell_type": "markdown",
   "id": "854f0158",
   "metadata": {},
   "source": [
    "## Random Search"
   ]
  },
  {
   "cell_type": "code",
   "execution_count": null,
   "id": "4750102d",
   "metadata": {},
   "outputs": [],
   "source": [
    "def random_search(max_degree=4):\n",
    "    root = SymbolicNode()\n",
    "    root.random_grow()\n",
    "    y_predict = root.post_order_traverse_recursive(x)\n",
    "    mae = np.mean(np.abs(y - y_predict))\n",
    "    return mae, root.copy()"
   ]
  },
  {
   "cell_type": "code",
   "execution_count": null,
   "id": "cae2dc2f",
   "metadata": {},
   "outputs": [],
   "source": [
    "N = 1000\n",
    "best_mae = 100000\n",
    "best_s = None\n",
    "hist_mae = []\n",
    "for i in range(N):\n",
    "    (mae, root) = random_search()\n",
    "    if mae <= best_mae:\n",
    "        best_mae = mae\n",
    "        best_s = root\n",
    "    hist_mae.append(best_mae)\n",
    "print(best_s)\n",
    "print(best_mae)"
   ]
  },
  {
   "cell_type": "code",
   "execution_count": null,
   "id": "de109822",
   "metadata": {},
   "outputs": [],
   "source": []
  },
  {
   "cell_type": "code",
   "execution_count": null,
   "id": "f72077d8",
   "metadata": {},
   "outputs": [],
   "source": [
    "plt.figure(figsize=(6,4))\n",
    "ax = plt.subplot(1,1,1)\n",
    "ax.plot(np.arange(N), hist_mae)\n",
    "ax.set_ylim(0,2)\n",
    "ax.set_xlim(-N/100,N)\n",
    "ax.set_xlabel(\"Evaluations\")\n",
    "ax.set_ylabel(\"MAE\")\n",
    "plt.savefig(\"output/presubmission/learningcurve-rs.png\", dpi=300)"
   ]
  },
  {
   "cell_type": "code",
   "execution_count": null,
   "id": "46f4431b",
   "metadata": {
    "scrolled": true
   },
   "outputs": [],
   "source": [
    "plt.figure(figsize=(6,4))\n",
    "ax = plt.subplot(1,1,1)\n",
    "ax.scatter(x,y, label=\"data\", s=2)\n",
    "y_pred = best_s.post_order_traverse_recursive(x)\n",
    "ax.plot(x,y_pred,color='k', label=\"random search fit\")\n",
    "ax.set_xlabel(\"x\")\n",
    "ax.set_ylabel(\"y\")\n",
    "#ax.set_title(f\"Random Search Best Fitting, MAE={best_mae:.4f}\")\n",
    "plt.legend(loc=\"lower right\")\n",
    "plt.savefig(\"output/presubmission/best-fitting-rs.png\",dpi=300)"
   ]
  },
  {
   "cell_type": "markdown",
   "id": "425b1fe8",
   "metadata": {},
   "source": [
    "## Test Symbolic Node"
   ]
  },
  {
   "cell_type": "code",
   "execution_count": null,
   "id": "d577a760",
   "metadata": {},
   "outputs": [],
   "source": [
    "root = SymbolicNode()\n",
    "a1 = SymbolicNode(1)\n",
    "a2 = SymbolicNode(1)\n",
    "b1 = SymbolicNode(2)\n",
    "b2 = SymbolicNode(2)\n",
    "b3 = SymbolicNode(2)\n",
    "b4 = SymbolicNode(2)\n",
    "c1 = SymbolicNode(1)\n",
    "c2 = SymbolicNode(1)\n",
    "c5 = SymbolicNode(1)\n",
    "c7 = SymbolicNode(1)\n",
    "root.setNode([operators[2], a1, a2])\n",
    "a1.setNode([operators[2], b1, b2])\n",
    "a2.setNode([operators[0], b3, b4])\n",
    "b1.setNode([operators[2], c1, c2])\n",
    "b3.setNode([operators[4], c5])\n",
    "b4.setNode([operators[5], c7])\n",
    "print(root)\n",
    "#root.all_node_level_traverse()\n",
    "#root.mutate_hoist()\n",
    "#print(root)\n",
    "c5.degree\n",
    "print(root.all_node)\n",
    "root.sort_degree()\n",
    "root.mutate_point()\n",
    "print(root)"
   ]
  },
  {
   "cell_type": "code",
   "execution_count": null,
   "id": "4f447beb",
   "metadata": {},
   "outputs": [],
   "source": [
    "copy(None)"
   ]
  },
  {
   "cell_type": "code",
   "execution_count": null,
   "id": "ad816ab5",
   "metadata": {},
   "outputs": [],
   "source": [
    "b = [1,2,3]\n",
    "c= [2]\n",
    "b+c[1]"
   ]
  },
  {
   "cell_type": "code",
   "execution_count": null,
   "id": "fdb126c5",
   "metadata": {},
   "outputs": [],
   "source": [
    "np.add.nin"
   ]
  },
  {
   "cell_type": "code",
   "execution_count": null,
   "id": "1abf25d0",
   "metadata": {},
   "outputs": [],
   "source": [
    "np.random.randint(10)"
   ]
  },
  {
   "cell_type": "code",
   "execution_count": null,
   "id": "9b47092a",
   "metadata": {},
   "outputs": [],
   "source": []
  }
 ],
 "metadata": {
  "kernelspec": {
   "display_name": "py38",
   "language": "python",
   "name": "py38"
  },
  "language_info": {
   "codemirror_mode": {
    "name": "ipython",
    "version": 3
   },
   "file_extension": ".py",
   "mimetype": "text/x-python",
   "name": "python",
   "nbconvert_exporter": "python",
   "pygments_lexer": "ipython3",
   "version": "3.8.9"
  }
 },
 "nbformat": 4,
 "nbformat_minor": 5
}
