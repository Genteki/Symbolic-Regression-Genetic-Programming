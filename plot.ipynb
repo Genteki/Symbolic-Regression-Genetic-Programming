{
 "cells": [
  {
   "cell_type": "code",
   "execution_count": 1,
   "id": "44d0c9f3",
   "metadata": {},
   "outputs": [],
   "source": [
    "import numpy as np\n",
    "import matplotlib.pyplot as plt\n",
    "import seaborn as sns\n",
    "from symbolic_node import *\n",
    "from utils import *\n",
    "from genetic_programing import *\n",
    "sns.set_style(\"whitegrid\")\n",
    "\n",
    "with open(\"data/data.txt\") as ifile:\n",
    "    lines = ifile.readlines()\n",
    "    pts = np.array([line.strip().split(\",\") for line in lines],\n",
    "                   dtype=np.float32)\n",
    "x = pts[:,0]\n",
    "y = pts[:,1]"
   ]
  },
  {
   "cell_type": "markdown",
   "id": "0751d147",
   "metadata": {},
   "source": [
    "## GP"
   ]
  },
  {
   "cell_type": "code",
   "execution_count": 3,
   "id": "d0bec7af",
   "metadata": {
    "scrolled": true
   },
   "outputs": [
    {
     "name": "stderr",
     "output_type": "stream",
     "text": [
      "/Users/genteki/genteki's document/MECS4510 Evolutionary Computation/hw2/symbolic_node.py:22: RuntimeWarning: invalid value encountered in sin\n",
      "  return self.f(self.lchild.post_order_traverse_recursive(x))\n",
      "/Users/genteki/genteki's document/MECS4510 Evolutionary Computation/hw2/symbolic_node.py:22: RuntimeWarning: invalid value encountered in cos\n",
      "  return self.f(self.lchild.post_order_traverse_recursive(x))\n",
      "/Users/genteki/genteki's document/MECS4510 Evolutionary Computation/hw2/symbolic_node.py:24: RuntimeWarning: invalid value encountered in divide\n",
      "  return self.f(\n"
     ]
    },
    {
     "name": "stdout",
     "output_type": "stream",
     "text": [
      "0 5.104452822450419\n",
      "1 5.266788752127431\n",
      "2 5.746068615608131\n",
      "3 5.748773407202596\n",
      "4 5.945175710777676\n",
      "5 6.194371232524443\n",
      "6 6.831801776461413\n",
      "7 6.837040740935445\n",
      "8 6.847028608636973\n",
      "9 6.929060337019671\n",
      "10 6.9468457411833295\n",
      "11 8.109807516605235\n",
      "12 8.118374705566328\n",
      "13 8.150910634640693\n",
      "14 8.24490750705946\n",
      "15 8.251580703663581\n",
      "16 8.251580703663581\n"
     ]
    },
    {
     "name": "stderr",
     "output_type": "stream",
     "text": [
      "/Users/genteki/genteki's document/MECS4510 Evolutionary Computation/hw2/symbolic_node.py:24: RuntimeWarning: invalid value encountered in subtract\n",
      "  return self.f(\n"
     ]
    },
    {
     "name": "stdout",
     "output_type": "stream",
     "text": [
      "17 8.26119913993934\n",
      "18 8.350960305139374\n",
      "19 8.350960305139374\n",
      "20 8.568084195140878\n",
      "21 8.568084195140878\n",
      "22 8.568084195140878\n",
      "23 8.57263131862229\n",
      "24 8.595141184724058\n",
      "25 8.655020903112746\n",
      "26 8.685673224195632\n",
      "27 8.687374407320354\n",
      "28 8.75559664445309\n",
      "29 8.75559664445309\n",
      "30 8.841223379378034\n",
      "31 8.886036081545294\n",
      "32 8.999400096888342\n",
      "33 9.028510449490474\n",
      "34 9.028510449490474\n",
      "35 9.129075905177618\n",
      "36 9.129075905177618\n"
     ]
    },
    {
     "name": "stderr",
     "output_type": "stream",
     "text": [
      "/Users/genteki/genteki's document/MECS4510 Evolutionary Computation/hw2/symbolic_node.py:24: RuntimeWarning: invalid value encountered in multiply\n",
      "  return self.f(\n"
     ]
    },
    {
     "name": "stdout",
     "output_type": "stream",
     "text": [
      "37 9.162076199018792\n",
      "38 9.220907260024436\n",
      "39 9.220907260024436\n",
      "40 9.220907260024436\n",
      "41 9.25568713399782\n",
      "42 9.25718668355087\n",
      "43 9.284770574014958\n",
      "44 9.284770574014958\n",
      "45 9.284770574014958\n",
      "46 9.302874763109534\n",
      "47 9.305478545905274\n",
      "48 9.414298135429588\n",
      "49 9.422110463514327\n",
      "50 9.431679877941232\n",
      "51 9.431679877941232\n",
      "52 9.49418038342651\n",
      "53 9.51237905920114\n",
      "54 9.540374479187102\n",
      "55 9.546324140674033\n",
      "56 9.565065639610276\n",
      "57 9.571207221926835\n",
      "58 9.584260010765515\n",
      "59 9.637977866025675\n",
      "60 9.640984546365035\n",
      "61 9.64912645961504\n",
      "62 9.667701737637097\n",
      "63 9.679651480491769\n",
      "64 9.689675209901395\n",
      "65 9.699682568865153\n",
      "66 9.700375886894392\n",
      "67 9.70298600677341\n",
      "68 9.712670857470691\n",
      "69 9.727635228522123\n"
     ]
    },
    {
     "ename": "KeyboardInterrupt",
     "evalue": "",
     "output_type": "error",
     "traceback": [
      "\u001b[0;31m---------------------------------------------------------------------------\u001b[0m",
      "\u001b[0;31mKeyboardInterrupt\u001b[0m                         Traceback (most recent call last)",
      "Cell \u001b[0;32mIn [3], line 4\u001b[0m\n\u001b[1;32m      2\u001b[0m gp\u001b[38;5;241m.\u001b[39minit_population()\n\u001b[1;32m      3\u001b[0m \u001b[38;5;28;01mfor\u001b[39;00m i \u001b[38;5;129;01min\u001b[39;00m \u001b[38;5;28mrange\u001b[39m(N_GENERATION):\n\u001b[0;32m----> 4\u001b[0m     \u001b[43mgp\u001b[49m\u001b[38;5;241;43m.\u001b[39;49m\u001b[43mevolve\u001b[49m\u001b[43m(\u001b[49m\u001b[43m)\u001b[49m\n\u001b[1;32m      5\u001b[0m     \u001b[38;5;28mprint\u001b[39m(i, gp\u001b[38;5;241m.\u001b[39mbest_fitness)\n",
      "File \u001b[0;32m~/genteki's document/MECS4510 Evolutionary Computation/hw2/genetic_programing.py:58\u001b[0m, in \u001b[0;36mGeneticPrograming.evolve\u001b[0;34m(self, n_generation)\u001b[0m\n\u001b[1;32m     56\u001b[0m \u001b[38;5;28;01mfor\u001b[39;00m i \u001b[38;5;129;01min\u001b[39;00m \u001b[38;5;28mrange\u001b[39m(\u001b[38;5;28mself\u001b[39m\u001b[38;5;241m.\u001b[39mpop_size):\n\u001b[1;32m     57\u001b[0m     parent_i \u001b[38;5;241m=\u001b[39m \u001b[38;5;28mself\u001b[39m\u001b[38;5;241m.\u001b[39m_tournament()\n\u001b[0;32m---> 58\u001b[0m     parent \u001b[38;5;241m=\u001b[39m \u001b[38;5;28;43mself\u001b[39;49m\u001b[38;5;241;43m.\u001b[39;49m\u001b[43mpop\u001b[49m\u001b[43m[\u001b[49m\u001b[43mparent_i\u001b[49m\u001b[43m]\u001b[49m\u001b[38;5;241;43m.\u001b[39;49m\u001b[43mcopy\u001b[49m\u001b[43m(\u001b[49m\u001b[43m)\u001b[49m\n\u001b[1;32m     59\u001b[0m     p \u001b[38;5;241m=\u001b[39m np\u001b[38;5;241m.\u001b[39mrandom\u001b[38;5;241m.\u001b[39mrand()\n\u001b[1;32m     60\u001b[0m     \u001b[38;5;28;01mif\u001b[39;00m p \u001b[38;5;241m<\u001b[39m \u001b[38;5;28mself\u001b[39m\u001b[38;5;241m.\u001b[39mevo_rate[\u001b[38;5;241m0\u001b[39m]:                \u001b[38;5;66;03m# crossover\u001b[39;00m\n",
      "File \u001b[0;32m~/genteki's document/MECS4510 Evolutionary Computation/hw2/symbolic_node.py:144\u001b[0m, in \u001b[0;36mSymbolicNode.copy\u001b[0;34m(self)\u001b[0m\n\u001b[1;32m    142\u001b[0m new_node\u001b[38;5;241m.\u001b[39mvalue \u001b[38;5;241m=\u001b[39m \u001b[38;5;28mself\u001b[39m\u001b[38;5;241m.\u001b[39mvalue\n\u001b[1;32m    143\u001b[0m \u001b[38;5;28;01mif\u001b[39;00m \u001b[38;5;129;01mnot\u001b[39;00m \u001b[38;5;28mself\u001b[39m\u001b[38;5;241m.\u001b[39mlchild \u001b[38;5;129;01mis\u001b[39;00m \u001b[38;5;28;01mNone\u001b[39;00m:\n\u001b[0;32m--> 144\u001b[0m     new_node\u001b[38;5;241m.\u001b[39mlchild \u001b[38;5;241m=\u001b[39m \u001b[38;5;28;43mself\u001b[39;49m\u001b[38;5;241;43m.\u001b[39;49m\u001b[43mlchild\u001b[49m\u001b[38;5;241;43m.\u001b[39;49m\u001b[43mcopy\u001b[49m\u001b[43m(\u001b[49m\u001b[43m)\u001b[49m\n\u001b[1;32m    145\u001b[0m \u001b[38;5;28;01mif\u001b[39;00m \u001b[38;5;129;01mnot\u001b[39;00m \u001b[38;5;28mself\u001b[39m\u001b[38;5;241m.\u001b[39mrchild \u001b[38;5;129;01mis\u001b[39;00m \u001b[38;5;28;01mNone\u001b[39;00m:\n\u001b[1;32m    146\u001b[0m     new_node\u001b[38;5;241m.\u001b[39mrchild \u001b[38;5;241m=\u001b[39m \u001b[38;5;28mself\u001b[39m\u001b[38;5;241m.\u001b[39mrchild\u001b[38;5;241m.\u001b[39mcopy()\n",
      "File \u001b[0;32m~/genteki's document/MECS4510 Evolutionary Computation/hw2/symbolic_node.py:144\u001b[0m, in \u001b[0;36mSymbolicNode.copy\u001b[0;34m(self)\u001b[0m\n\u001b[1;32m    142\u001b[0m new_node\u001b[38;5;241m.\u001b[39mvalue \u001b[38;5;241m=\u001b[39m \u001b[38;5;28mself\u001b[39m\u001b[38;5;241m.\u001b[39mvalue\n\u001b[1;32m    143\u001b[0m \u001b[38;5;28;01mif\u001b[39;00m \u001b[38;5;129;01mnot\u001b[39;00m \u001b[38;5;28mself\u001b[39m\u001b[38;5;241m.\u001b[39mlchild \u001b[38;5;129;01mis\u001b[39;00m \u001b[38;5;28;01mNone\u001b[39;00m:\n\u001b[0;32m--> 144\u001b[0m     new_node\u001b[38;5;241m.\u001b[39mlchild \u001b[38;5;241m=\u001b[39m \u001b[38;5;28;43mself\u001b[39;49m\u001b[38;5;241;43m.\u001b[39;49m\u001b[43mlchild\u001b[49m\u001b[38;5;241;43m.\u001b[39;49m\u001b[43mcopy\u001b[49m\u001b[43m(\u001b[49m\u001b[43m)\u001b[49m\n\u001b[1;32m    145\u001b[0m \u001b[38;5;28;01mif\u001b[39;00m \u001b[38;5;129;01mnot\u001b[39;00m \u001b[38;5;28mself\u001b[39m\u001b[38;5;241m.\u001b[39mrchild \u001b[38;5;129;01mis\u001b[39;00m \u001b[38;5;28;01mNone\u001b[39;00m:\n\u001b[1;32m    146\u001b[0m     new_node\u001b[38;5;241m.\u001b[39mrchild \u001b[38;5;241m=\u001b[39m \u001b[38;5;28mself\u001b[39m\u001b[38;5;241m.\u001b[39mrchild\u001b[38;5;241m.\u001b[39mcopy()\n",
      "    \u001b[0;31m[... skipping similar frames: SymbolicNode.copy at line 144 (3 times)]\u001b[0m\n",
      "File \u001b[0;32m~/genteki's document/MECS4510 Evolutionary Computation/hw2/symbolic_node.py:146\u001b[0m, in \u001b[0;36mSymbolicNode.copy\u001b[0;34m(self)\u001b[0m\n\u001b[1;32m    144\u001b[0m     new_node\u001b[38;5;241m.\u001b[39mlchild \u001b[38;5;241m=\u001b[39m \u001b[38;5;28mself\u001b[39m\u001b[38;5;241m.\u001b[39mlchild\u001b[38;5;241m.\u001b[39mcopy()\n\u001b[1;32m    145\u001b[0m \u001b[38;5;28;01mif\u001b[39;00m \u001b[38;5;129;01mnot\u001b[39;00m \u001b[38;5;28mself\u001b[39m\u001b[38;5;241m.\u001b[39mrchild \u001b[38;5;129;01mis\u001b[39;00m \u001b[38;5;28;01mNone\u001b[39;00m:\n\u001b[0;32m--> 146\u001b[0m     new_node\u001b[38;5;241m.\u001b[39mrchild \u001b[38;5;241m=\u001b[39m \u001b[38;5;28;43mself\u001b[39;49m\u001b[38;5;241;43m.\u001b[39;49m\u001b[43mrchild\u001b[49m\u001b[38;5;241;43m.\u001b[39;49m\u001b[43mcopy\u001b[49m\u001b[43m(\u001b[49m\u001b[43m)\u001b[49m\n\u001b[1;32m    147\u001b[0m \u001b[38;5;28;01mreturn\u001b[39;00m new_node\n",
      "File \u001b[0;32m~/genteki's document/MECS4510 Evolutionary Computation/hw2/symbolic_node.py:146\u001b[0m, in \u001b[0;36mSymbolicNode.copy\u001b[0;34m(self)\u001b[0m\n\u001b[1;32m    144\u001b[0m     new_node\u001b[38;5;241m.\u001b[39mlchild \u001b[38;5;241m=\u001b[39m \u001b[38;5;28mself\u001b[39m\u001b[38;5;241m.\u001b[39mlchild\u001b[38;5;241m.\u001b[39mcopy()\n\u001b[1;32m    145\u001b[0m \u001b[38;5;28;01mif\u001b[39;00m \u001b[38;5;129;01mnot\u001b[39;00m \u001b[38;5;28mself\u001b[39m\u001b[38;5;241m.\u001b[39mrchild \u001b[38;5;129;01mis\u001b[39;00m \u001b[38;5;28;01mNone\u001b[39;00m:\n\u001b[0;32m--> 146\u001b[0m     new_node\u001b[38;5;241m.\u001b[39mrchild \u001b[38;5;241m=\u001b[39m \u001b[38;5;28;43mself\u001b[39;49m\u001b[38;5;241;43m.\u001b[39;49m\u001b[43mrchild\u001b[49m\u001b[38;5;241;43m.\u001b[39;49m\u001b[43mcopy\u001b[49m\u001b[43m(\u001b[49m\u001b[43m)\u001b[49m\n\u001b[1;32m    147\u001b[0m \u001b[38;5;28;01mreturn\u001b[39;00m new_node\n",
      "    \u001b[0;31m[... skipping similar frames: SymbolicNode.copy at line 144 (12 times), SymbolicNode.copy at line 146 (8 times)]\u001b[0m\n",
      "File \u001b[0;32m~/genteki's document/MECS4510 Evolutionary Computation/hw2/symbolic_node.py:146\u001b[0m, in \u001b[0;36mSymbolicNode.copy\u001b[0;34m(self)\u001b[0m\n\u001b[1;32m    144\u001b[0m     new_node\u001b[38;5;241m.\u001b[39mlchild \u001b[38;5;241m=\u001b[39m \u001b[38;5;28mself\u001b[39m\u001b[38;5;241m.\u001b[39mlchild\u001b[38;5;241m.\u001b[39mcopy()\n\u001b[1;32m    145\u001b[0m \u001b[38;5;28;01mif\u001b[39;00m \u001b[38;5;129;01mnot\u001b[39;00m \u001b[38;5;28mself\u001b[39m\u001b[38;5;241m.\u001b[39mrchild \u001b[38;5;129;01mis\u001b[39;00m \u001b[38;5;28;01mNone\u001b[39;00m:\n\u001b[0;32m--> 146\u001b[0m     new_node\u001b[38;5;241m.\u001b[39mrchild \u001b[38;5;241m=\u001b[39m \u001b[38;5;28;43mself\u001b[39;49m\u001b[38;5;241;43m.\u001b[39;49m\u001b[43mrchild\u001b[49m\u001b[38;5;241;43m.\u001b[39;49m\u001b[43mcopy\u001b[49m\u001b[43m(\u001b[49m\u001b[43m)\u001b[49m\n\u001b[1;32m    147\u001b[0m \u001b[38;5;28;01mreturn\u001b[39;00m new_node\n",
      "    \u001b[0;31m[... skipping similar frames: SymbolicNode.copy at line 144 (2 times)]\u001b[0m\n",
      "File \u001b[0;32m~/genteki's document/MECS4510 Evolutionary Computation/hw2/symbolic_node.py:144\u001b[0m, in \u001b[0;36mSymbolicNode.copy\u001b[0;34m(self)\u001b[0m\n\u001b[1;32m    142\u001b[0m new_node\u001b[38;5;241m.\u001b[39mvalue \u001b[38;5;241m=\u001b[39m \u001b[38;5;28mself\u001b[39m\u001b[38;5;241m.\u001b[39mvalue\n\u001b[1;32m    143\u001b[0m \u001b[38;5;28;01mif\u001b[39;00m \u001b[38;5;129;01mnot\u001b[39;00m \u001b[38;5;28mself\u001b[39m\u001b[38;5;241m.\u001b[39mlchild \u001b[38;5;129;01mis\u001b[39;00m \u001b[38;5;28;01mNone\u001b[39;00m:\n\u001b[0;32m--> 144\u001b[0m     new_node\u001b[38;5;241m.\u001b[39mlchild \u001b[38;5;241m=\u001b[39m \u001b[38;5;28;43mself\u001b[39;49m\u001b[38;5;241;43m.\u001b[39;49m\u001b[43mlchild\u001b[49m\u001b[38;5;241;43m.\u001b[39;49m\u001b[43mcopy\u001b[49m\u001b[43m(\u001b[49m\u001b[43m)\u001b[49m\n\u001b[1;32m    145\u001b[0m \u001b[38;5;28;01mif\u001b[39;00m \u001b[38;5;129;01mnot\u001b[39;00m \u001b[38;5;28mself\u001b[39m\u001b[38;5;241m.\u001b[39mrchild \u001b[38;5;129;01mis\u001b[39;00m \u001b[38;5;28;01mNone\u001b[39;00m:\n\u001b[1;32m    146\u001b[0m     new_node\u001b[38;5;241m.\u001b[39mrchild \u001b[38;5;241m=\u001b[39m \u001b[38;5;28mself\u001b[39m\u001b[38;5;241m.\u001b[39mrchild\u001b[38;5;241m.\u001b[39mcopy()\n",
      "File \u001b[0;32m~/genteki's document/MECS4510 Evolutionary Computation/hw2/symbolic_node.py:138\u001b[0m, in \u001b[0;36mSymbolicNode.copy\u001b[0;34m(self)\u001b[0m\n\u001b[1;32m    137\u001b[0m \u001b[38;5;28;01mdef\u001b[39;00m \u001b[38;5;21mcopy\u001b[39m(\u001b[38;5;28mself\u001b[39m):\n\u001b[0;32m--> 138\u001b[0m     new_node \u001b[38;5;241m=\u001b[39m \u001b[43mSymbolicNode\u001b[49m\u001b[43m(\u001b[49m\u001b[43mdegree\u001b[49m\u001b[38;5;241;43m=\u001b[39;49m\u001b[38;5;28;43mself\u001b[39;49m\u001b[38;5;241;43m.\u001b[39;49m\u001b[43mdegree\u001b[49m\u001b[43m)\u001b[49m\n\u001b[1;32m    139\u001b[0m     new_node\u001b[38;5;241m.\u001b[39mf \u001b[38;5;241m=\u001b[39m \u001b[38;5;28mself\u001b[39m\u001b[38;5;241m.\u001b[39mf\n\u001b[1;32m    140\u001b[0m     new_node\u001b[38;5;241m.\u001b[39mvalue \u001b[38;5;241m=\u001b[39m \u001b[38;5;28mself\u001b[39m\u001b[38;5;241m.\u001b[39mvalue\n",
      "File \u001b[0;32m~/genteki's document/MECS4510 Evolutionary Computation/hw2/symbolic_node.py:6\u001b[0m, in \u001b[0;36mSymbolicNode.__init__\u001b[0;34m(self, degree, max_degree)\u001b[0m\n\u001b[1;32m      5\u001b[0m \u001b[38;5;28;01mdef\u001b[39;00m \u001b[38;5;21m__init__\u001b[39m(\u001b[38;5;28mself\u001b[39m, degree\u001b[38;5;241m=\u001b[39m\u001b[38;5;241m0\u001b[39m, max_degree\u001b[38;5;241m=\u001b[39m\u001b[38;5;241m10\u001b[39m):\n\u001b[0;32m----> 6\u001b[0m     \u001b[38;5;28;43mself\u001b[39;49m\u001b[38;5;241;43m.\u001b[39;49m\u001b[43mf\u001b[49m \u001b[38;5;241m=\u001b[39m \u001b[38;5;28;01mNone\u001b[39;00m\n\u001b[1;32m      7\u001b[0m     \u001b[38;5;28mself\u001b[39m\u001b[38;5;241m.\u001b[39mlchild \u001b[38;5;241m=\u001b[39m \u001b[38;5;28;01mNone\u001b[39;00m\n\u001b[1;32m      8\u001b[0m     \u001b[38;5;28mself\u001b[39m\u001b[38;5;241m.\u001b[39mrchild \u001b[38;5;241m=\u001b[39m \u001b[38;5;28;01mNone\u001b[39;00m\n",
      "\u001b[0;31mKeyboardInterrupt\u001b[0m: "
     ]
    }
   ],
   "source": [
    "gp = GeneticPrograming(x,y,one_over_mse)\n",
    "gp.init_population()\n",
    "for i in range(N_GENERATION):\n",
    "    gp.evolve()\n",
    "    print(i, gp.best_fitness)"
   ]
  },
  {
   "cell_type": "markdown",
   "id": "854f0158",
   "metadata": {},
   "source": [
    "## Random Search"
   ]
  },
  {
   "cell_type": "code",
   "execution_count": null,
   "id": "4750102d",
   "metadata": {},
   "outputs": [],
   "source": [
    "def random_search(max_degree=4):\n",
    "    root = SymbolicNode()\n",
    "    root.random_grow()\n",
    "    y_predict = root.post_order_traverse_recursive(x)\n",
    "    mae = np.mean(np.abs(y - y_predict))\n",
    "    return mae, root.copy()"
   ]
  },
  {
   "cell_type": "code",
   "execution_count": null,
   "id": "cae2dc2f",
   "metadata": {},
   "outputs": [],
   "source": [
    "N = 1000\n",
    "best_mae = 100000\n",
    "best_s = None\n",
    "hist_mae = []\n",
    "for i in range(N):\n",
    "    (mae, root) = random_search()\n",
    "    if mae <= best_mae:\n",
    "        best_mae = mae\n",
    "        best_s = root\n",
    "    hist_mae.append(best_mae)\n",
    "print(best_s)\n",
    "print(best_mae)"
   ]
  },
  {
   "cell_type": "code",
   "execution_count": null,
   "id": "de109822",
   "metadata": {},
   "outputs": [],
   "source": []
  },
  {
   "cell_type": "code",
   "execution_count": null,
   "id": "f72077d8",
   "metadata": {},
   "outputs": [],
   "source": [
    "plt.figure(figsize=(6,4))\n",
    "ax = plt.subplot(1,1,1)\n",
    "ax.plot(np.arange(N), hist_mae)\n",
    "ax.set_ylim(0,2)\n",
    "ax.set_xlim(-N/100,N)\n",
    "ax.set_xlabel(\"Evaluations\")\n",
    "ax.set_ylabel(\"MAE\")\n",
    "plt.savefig(\"output/presubmission/learningcurve-rs.png\", dpi=300)"
   ]
  },
  {
   "cell_type": "code",
   "execution_count": null,
   "id": "46f4431b",
   "metadata": {
    "scrolled": true
   },
   "outputs": [],
   "source": [
    "plt.figure(figsize=(6,4))\n",
    "ax = plt.subplot(1,1,1)\n",
    "ax.scatter(x,y, label=\"data\", s=2)\n",
    "y_pred = best_s.post_order_traverse_recursive(x)\n",
    "ax.plot(x,y_pred,color='k', label=\"random search fit\")\n",
    "ax.set_xlabel(\"x\")\n",
    "ax.set_ylabel(\"y\")\n",
    "#ax.set_title(f\"Random Search Best Fitting, MAE={best_mae:.4f}\")\n",
    "plt.legend(loc=\"lower right\")\n",
    "plt.savefig(\"output/presubmission/best-fitting-rs.png\",dpi=300)"
   ]
  },
  {
   "cell_type": "markdown",
   "id": "425b1fe8",
   "metadata": {},
   "source": [
    "## Test Symbolic Node"
   ]
  },
  {
   "cell_type": "code",
   "execution_count": null,
   "id": "d577a760",
   "metadata": {},
   "outputs": [],
   "source": [
    "root = SymbolicNode()\n",
    "a1 = SymbolicNode(1)\n",
    "a2 = SymbolicNode(1)\n",
    "b1 = SymbolicNode(2)\n",
    "b2 = SymbolicNode(2)\n",
    "b3 = SymbolicNode(2)\n",
    "b4 = SymbolicNode(2)\n",
    "c1 = SymbolicNode(1)\n",
    "c2 = SymbolicNode(1)\n",
    "c5 = SymbolicNode(1)\n",
    "c7 = SymbolicNode(1)\n",
    "root.setNode([operators[2], a1, a2])\n",
    "a1.setNode([operators[2], b1, b2])\n",
    "a2.setNode([operators[0], b3, b4])\n",
    "b1.setNode([operators[2], c1, c2])\n",
    "b3.setNode([operators[4], c5])\n",
    "b4.setNode([operators[5], c7])\n",
    "print(root)\n",
    "#root.all_node_level_traverse()\n",
    "#root.mutate_hoist()\n",
    "#print(root)\n",
    "c5.degree\n",
    "print(root.all_node)\n",
    "root.sort_degree()\n",
    "root.mutate_point()\n",
    "print(root)"
   ]
  },
  {
   "cell_type": "code",
   "execution_count": null,
   "id": "4f447beb",
   "metadata": {},
   "outputs": [],
   "source": [
    "copy(None)"
   ]
  },
  {
   "cell_type": "code",
   "execution_count": null,
   "id": "ad816ab5",
   "metadata": {},
   "outputs": [],
   "source": [
    "b = [1,2,3]\n",
    "c= [2]\n",
    "b+c[1]"
   ]
  },
  {
   "cell_type": "code",
   "execution_count": null,
   "id": "fdb126c5",
   "metadata": {},
   "outputs": [],
   "source": [
    "np.add.nin"
   ]
  },
  {
   "cell_type": "code",
   "execution_count": null,
   "id": "1abf25d0",
   "metadata": {},
   "outputs": [],
   "source": [
    "np.random.randint(10)"
   ]
  },
  {
   "cell_type": "code",
   "execution_count": 21,
   "id": "9b47092a",
   "metadata": {},
   "outputs": [
    {
     "data": {
      "text/plain": [
       "array([[8.96960e+00, 1.71183e+01, 3.77250e+00, 1.25900e+01, 1.49330e+00,\n",
       "        1.76362e+01, 7.30200e-01, 1.36274e+01, 1.78142e+01, 1.37107e+01,\n",
       "        4.97110e+00, 6.91020e+00, 7.84120e+00, 2.06460e+00, 1.13760e+00,\n",
       "        9.09930e+00, 1.81105e+01, 1.20978e+01, 3.85270e+00, 1.48300e-01,\n",
       "        6.11080e+00, 8.63940e+00, 1.07424e+01, 1.66570e+00, 9.56880e+00,\n",
       "        3.02690e+00, 7.07210e+00, 8.53220e+00, 1.72197e+01, 9.60590e+00,\n",
       "        7.66320e+00, 9.22400e+00, 2.47800e-01, 1.30250e+01, 1.59620e+00,\n",
       "        1.13000e-01, 3.19750e+00, 7.48960e+00, 1.65609e+01, 1.57941e+01,\n",
       "        1.63815e+01, 4.22320e+00, 6.43950e+00, 2.93980e+00, 9.33790e+00,\n",
       "        1.39670e+00, 1.38554e+01, 1.87410e+01, 4.67750e+00, 8.77080e+00,\n",
       "        5.55280e+00, 1.62392e+01, 5.21410e+00, 2.36390e+00, 5.52230e+00,\n",
       "        1.64278e+01, 2.46120e+00, 1.06774e+01, 1.67424e+01, 1.58640e+00,\n",
       "        1.37080e+01, 9.05410e+00, 3.02460e+00, 7.89490e+00, 1.63256e+01,\n",
       "        2.50020e+00, 4.63380e+00, 1.00639e+01, 1.01306e+01, 2.60620e+00,\n",
       "        1.22971e+01, 1.30680e+00, 1.71000e-01, 7.18940e+00, 8.80830e+00,\n",
       "        1.30632e+01, 9.81100e-01, 1.47250e+01, 1.16233e+01, 1.39057e+01,\n",
       "        1.34766e+01, 1.79905e+01, 3.79700e+00, 2.73060e+00, 4.43290e+00,\n",
       "        7.03070e+00, 1.46313e+01, 7.33930e+00, 1.53157e+01, 6.73640e+00,\n",
       "        1.24328e+01, 1.44473e+01, 1.83542e+01, 2.17910e+00, 1.07898e+01,\n",
       "        8.40840e+00, 1.25559e+01, 7.89770e+00, 4.82470e+00, 1.63636e+01,\n",
       "        5.72820e+00, 3.75220e+00, 1.78567e+01, 7.92480e+00, 8.89010e+00,\n",
       "        1.66388e+01, 1.07272e+01, 1.83883e+01, 1.80511e+01, 1.70133e+01,\n",
       "        1.15864e+01, 2.38840e+00, 1.05605e+01, 1.78203e+01, 1.19469e+01,\n",
       "        5.69810e+00, 1.10000e-02, 1.76900e+01, 9.23860e+00, 9.99250e+00,\n",
       "        9.95620e+00, 1.01984e+01, 1.87677e+01, 7.82870e+00, 8.27410e+00,\n",
       "        1.68420e+01, 6.14870e+00, 2.94200e-01, 5.30570e+00, 1.79040e+01,\n",
       "        1.40460e+01, 1.81469e+01, 4.91170e+00, 7.05540e+00, 1.07000e+00,\n",
       "        5.88980e+00, 1.82641e+01, 1.13970e+00, 9.95640e+00, 1.56070e+01,\n",
       "        1.19043e+01, 1.20009e+01, 4.90710e+00, 1.54425e+01, 1.47797e+01,\n",
       "        1.04905e+01, 7.43630e+00, 3.56770e+00, 4.86550e+00, 1.88800e+00,\n",
       "        1.56613e+01, 1.26296e+01, 1.68328e+01, 6.69090e+00, 1.67109e+01,\n",
       "        3.40960e+00, 1.41669e+01, 1.72206e+01, 1.78979e+01, 6.25320e+00,\n",
       "        6.36710e+00, 1.56794e+01, 5.75400e-01, 1.79942e+01, 4.95000e+00,\n",
       "        1.32159e+01, 3.52810e+00, 1.79660e+00, 3.94900e-01, 1.17524e+01,\n",
       "        9.73250e+00, 3.82060e+00, 9.18550e+00, 1.57952e+01, 8.97030e+00,\n",
       "        1.56051e+01, 1.25479e+01, 2.67900e+00, 1.78697e+01, 7.88290e+00,\n",
       "        3.90530e+00, 9.16860e+00, 1.61691e+01, 1.06345e+01, 1.22640e+01,\n",
       "        1.47885e+01, 7.44660e+00, 6.70000e+00, 5.74440e+00, 6.19110e+00,\n",
       "        2.01320e+00, 1.48030e+00, 8.37650e+00, 3.10810e+00, 8.40200e-01,\n",
       "        5.91780e+00, 6.20920e+00, 1.08127e+01, 1.48566e+01, 3.16260e+00,\n",
       "        4.12010e+00, 6.31140e+00, 5.29780e+00, 1.57319e+01, 1.53023e+01,\n",
       "        7.86260e+00, 1.05663e+01, 1.49940e+00, 1.19410e+00, 1.32950e+01,\n",
       "        1.24631e+01, 3.90300e-01, 6.19310e+00, 3.18480e+00, 1.70255e+01,\n",
       "        5.01690e+00, 9.60300e+00, 4.58000e-02, 8.96970e+00, 1.06410e+00,\n",
       "        9.04100e-01, 1.87273e+01, 1.51499e+01, 1.33695e+01, 9.20300e+00,\n",
       "        5.50300e+00, 1.31699e+01, 1.60894e+01, 1.56325e+01, 8.51350e+00,\n",
       "        1.14821e+01, 3.84230e+00, 9.53910e+00, 2.50950e+00, 1.86167e+01,\n",
       "        1.77650e+00, 1.27744e+01, 1.51938e+01, 2.68800e+00, 8.43020e+00,\n",
       "        1.72002e+01, 8.71560e+00, 1.58262e+01, 3.76140e+00, 9.74030e+00,\n",
       "        1.20445e+01, 4.16680e+00, 1.63043e+01, 1.61360e+01, 1.03674e+01,\n",
       "        8.96800e-01, 1.42750e+00, 1.39610e+00, 1.83450e+00, 3.00250e+00,\n",
       "        1.57291e+01, 7.77380e+00, 6.01420e+00, 1.42939e+01, 1.60825e+01,\n",
       "        6.04810e+00, 1.28249e+01, 1.13481e+01, 1.76741e+01, 1.80911e+01,\n",
       "        5.77090e+00, 1.05766e+01, 1.38382e+01, 3.43220e+00, 1.95000e+00,\n",
       "        3.27920e+00, 1.18055e+01, 1.36981e+01, 6.92950e+00, 4.59100e+00,\n",
       "        3.61330e+00, 1.35161e+01, 3.61170e+00, 1.63505e+01, 2.84790e+00,\n",
       "        1.20047e+01, 1.71670e+00, 5.44640e+00, 1.27771e+01, 7.63090e+00,\n",
       "        1.45705e+01, 3.78990e+00, 9.78060e+00, 6.42300e-01, 7.22240e+00,\n",
       "        1.29385e+01, 1.33968e+01, 1.40040e+01, 4.44790e+00, 1.34788e+01,\n",
       "        1.83217e+01, 5.51020e+00, 1.86214e+01, 2.29640e+00, 8.95550e+00,\n",
       "        1.85368e+01, 1.17456e+01, 8.65590e+00, 1.96880e+00, 1.40913e+01,\n",
       "        3.56440e+00, 7.76490e+00, 1.24700e+01, 1.67176e+01, 1.78292e+01,\n",
       "        1.73590e+00, 5.64310e+00, 7.52200e+00, 1.80980e+00, 3.38110e+00,\n",
       "        5.09550e+00, 1.56221e+01, 1.64177e+01, 6.48430e+00, 1.60187e+01,\n",
       "        2.78860e+00, 1.27897e+01, 3.71910e+00, 2.36370e+00, 1.46288e+01,\n",
       "        6.94860e+00, 1.08923e+01, 3.01560e+00, 1.34524e+01, 1.38907e+01,\n",
       "        7.06580e+00, 3.30100e-01, 5.16200e-01, 1.45824e+01, 1.65640e+01,\n",
       "        4.61690e+00, 1.05242e+01, 1.26428e+01, 5.81450e+00, 1.04416e+01,\n",
       "        3.05700e+00, 8.16600e-01, 1.40565e+01, 1.20075e+01, 4.39240e+00,\n",
       "        7.79970e+00, 1.00814e+01, 7.89690e+00, 5.72620e+00, 5.09580e+00,\n",
       "        1.80053e+01, 5.30860e+00, 1.24192e+01, 1.02283e+01, 3.47070e+00,\n",
       "        1.73375e+01, 9.35730e+00, 1.17181e+01, 1.40015e+01, 1.50069e+01,\n",
       "        1.49206e+01, 1.26877e+01, 8.25330e+00, 1.61828e+01, 1.11813e+01,\n",
       "        1.67020e+01, 5.56910e+00, 5.58960e+00, 1.58996e+01, 1.24676e+01,\n",
       "        3.87400e-01, 3.22770e+00, 1.44540e+00, 6.67440e+00, 7.15120e+00,\n",
       "        1.13831e+01, 9.77660e+00, 1.65845e+01, 5.40250e+00, 1.67581e+01,\n",
       "        3.20120e+00, 8.09260e+00, 3.59300e-01, 5.04480e+00, 9.65500e-01,\n",
       "        5.16960e+00, 6.25000e-02, 3.44220e+00, 1.35255e+01, 5.07120e+00,\n",
       "        1.80947e+01, 1.75072e+01, 1.28210e+00, 5.22180e+00, 3.48280e+00,\n",
       "        2.50190e+00, 1.80827e+01, 4.23070e+00, 1.86908e+01, 1.88276e+01,\n",
       "        1.69730e+01, 1.55346e+01, 4.56380e+00, 1.37710e+00, 8.85940e+00,\n",
       "        9.10020e+00, 4.02930e+00, 7.24990e+00, 4.60130e+00, 2.04100e+00,\n",
       "        1.35319e+01, 9.00840e+00, 7.08060e+00, 1.83203e+01, 7.81580e+00,\n",
       "        1.16050e+01, 1.02070e+00, 5.79230e+00, 7.97600e-01, 1.88242e+01,\n",
       "        1.37895e+01, 1.47013e+01, 1.11695e+01, 1.07201e+01, 2.60340e+00,\n",
       "        2.81340e+00, 1.09501e+01, 4.71000e-01, 1.75585e+01, 1.65220e+00,\n",
       "        1.66890e+01, 1.25922e+01, 1.62035e+01, 1.43664e+01, 1.82763e+01,\n",
       "        1.78955e+01, 8.24710e+00, 5.82990e+00, 1.60904e+01, 1.63475e+01,\n",
       "        9.76300e+00, 1.88290e+01, 2.03770e+00, 7.21570e+00, 6.70760e+00,\n",
       "        1.11722e+01, 1.59637e+01, 8.98500e+00, 5.28430e+00, 1.82800e-01,\n",
       "        1.02930e+00, 1.48912e+01, 1.55110e+00, 2.41730e+00, 7.66010e+00,\n",
       "        1.33232e+01, 1.51102e+01, 1.29970e+00, 1.39426e+01, 2.58860e+00,\n",
       "        9.93880e+00, 5.42550e+00, 1.17700e+00, 1.68488e+01, 7.86600e+00,\n",
       "        5.06660e+00, 1.05719e+01, 1.52656e+01, 1.75174e+01, 8.42040e+00,\n",
       "        1.21810e+00, 8.62780e+00, 2.71000e-02, 2.63900e-01, 3.38870e+00,\n",
       "        1.19884e+01, 1.53139e+01, 1.35896e+01, 1.00605e+01, 7.75360e+00,\n",
       "        8.28000e-02, 1.21083e+01, 1.90610e+00, 1.36274e+01, 1.54766e+01,\n",
       "        8.17470e+00, 9.04050e+00, 1.58690e+00, 1.07645e+01, 4.84600e+00,\n",
       "        1.68679e+01, 1.06040e+01, 1.41982e+01, 1.09844e+01, 1.05200e+01,\n",
       "        1.02770e+01, 7.95880e+00, 8.23770e+00, 3.28110e+00, 4.49360e+00,\n",
       "        1.07649e+01, 1.75373e+01, 4.89220e+00, 4.51120e+00, 6.59800e+00,\n",
       "        1.38457e+01, 6.18510e+00, 1.32935e+01, 1.57462e+01, 5.82030e+00,\n",
       "        1.21708e+01, 1.45183e+01, 9.84310e+00, 1.62389e+01, 1.46688e+01,\n",
       "        1.86246e+01, 1.20323e+01, 9.40280e+00, 1.36331e+01, 1.32794e+01,\n",
       "        1.57061e+01, 1.35694e+01, 4.92790e+00, 2.75190e+00, 6.32100e+00,\n",
       "        3.52370e+00, 1.75454e+01, 8.36660e+00, 8.71800e+00, 5.08200e+00,\n",
       "        1.37961e+01, 1.42304e+01, 2.87400e-01, 5.96970e+00, 1.58224e+01,\n",
       "        2.22180e+00, 5.18910e+00, 1.63304e+01, 1.75871e+01, 1.97700e+00,\n",
       "        1.32860e+01, 7.21590e+00, 7.30530e+00, 1.42570e+00, 1.87568e+01,\n",
       "        5.29080e+00, 7.01730e+00, 9.68000e+00, 3.21560e+00, 1.51180e+00,\n",
       "        5.25000e+00, 5.75230e+00, 7.16300e-01, 1.40966e+01, 1.06546e+01,\n",
       "        8.90000e-01, 1.03927e+01, 1.50780e+01, 1.42637e+01, 1.26845e+01,\n",
       "        1.28229e+01, 1.12053e+01, 1.12567e+01, 3.08170e+00, 3.69480e+00,\n",
       "        1.56460e+00, 1.44565e+01, 1.72441e+01, 1.55257e+01, 6.72140e+00,\n",
       "        8.22120e+00, 1.48459e+01, 1.24569e+01, 1.18971e+01, 1.01495e+01,\n",
       "        1.31400e-01, 5.98300e+00, 1.81007e+01, 8.56490e+00, 1.23437e+01,\n",
       "        1.84950e+01, 1.12940e+01, 2.34560e+00, 2.80110e+00, 4.25750e+00,\n",
       "        2.93410e+00, 1.08546e+01, 6.23730e+00, 1.54680e+01, 1.64500e+01,\n",
       "        5.15310e+00, 1.77199e+01, 1.20197e+01, 1.18489e+01, 1.82806e+01,\n",
       "        6.96170e+00, 1.56404e+01, 3.29800e+00, 2.15110e+00, 7.68220e+00,\n",
       "        1.14352e+01, 2.88710e+00, 1.78320e+00, 1.48616e+01, 1.17032e+01,\n",
       "        3.10590e+00, 9.73880e+00, 1.36794e+01, 5.58180e+00, 8.56550e+00,\n",
       "        1.76649e+01, 1.28023e+01, 1.11188e+01, 1.21830e+00, 9.13790e+00,\n",
       "        2.16030e+00, 1.00579e+01, 3.66400e-01, 2.79440e+00, 3.15480e+00,\n",
       "        1.52546e+01, 1.27100e+01, 9.51700e-01, 1.65348e+01, 1.35852e+01,\n",
       "        1.43192e+01, 1.35991e+01, 5.05670e+00, 1.09260e+01, 6.34560e+00,\n",
       "        5.34470e+00, 1.30598e+01, 9.69040e+00, 1.08800e-01, 9.68580e+00,\n",
       "        1.78182e+01, 1.29336e+01, 2.63730e+00, 1.19880e+01, 1.02609e+01,\n",
       "        6.62510e+00, 7.47790e+00, 1.27293e+01, 8.31600e+00, 1.11800e+00,\n",
       "        5.07610e+00, 3.32600e+00, 1.44124e+01, 1.13567e+01, 1.29231e+01,\n",
       "        1.73787e+01, 1.58550e+01, 4.74260e+00, 1.40495e+01, 1.12320e+00,\n",
       "        4.85600e-01, 1.61716e+01, 1.06385e+01, 1.01712e+01, 1.60031e+01,\n",
       "        1.79784e+01, 5.80200e+00, 2.52300e+00, 1.52033e+01, 5.22870e+00,\n",
       "        8.30720e+00, 7.26310e+00, 2.80850e+00, 1.38174e+01, 1.48970e+01,\n",
       "        7.58100e-01, 1.42400e-01, 6.58820e+00, 1.22359e+01, 1.25268e+01,\n",
       "        1.42829e+01, 4.67070e+00, 4.72620e+00, 5.87760e+00, 4.12830e+00,\n",
       "        1.83443e+01, 1.28134e+01, 1.11250e+01, 1.58798e+01, 6.70690e+00,\n",
       "        1.15029e+01, 2.26600e+00, 5.85390e+00, 1.31890e+01, 9.00200e+00,\n",
       "        1.11735e+01, 8.78990e+00, 6.79340e+00, 1.80115e+01, 1.03235e+01,\n",
       "        3.64450e+00, 1.77560e+00, 8.21930e+00, 1.64072e+01, 1.44540e+01,\n",
       "        1.36544e+01, 1.79485e+01, 2.07040e+00, 1.88073e+01, 1.78835e+01,\n",
       "        5.44550e+00, 3.05700e-01, 1.72116e+01, 1.72090e+00, 1.43880e+00,\n",
       "        2.10800e+00, 6.17120e+00, 4.54700e+00, 1.43262e+01, 3.75610e+00,\n",
       "        9.95030e+00, 3.60730e+00, 1.79929e+01, 2.82190e+00, 1.16323e+01,\n",
       "        9.06270e+00, 1.15494e+01, 1.61005e+01, 4.07680e+00, 5.19940e+00,\n",
       "        8.17830e+00, 6.06020e+00, 3.81560e+00, 1.60696e+01, 1.43687e+01,\n",
       "        1.30640e+00, 1.22818e+01, 2.76870e+00, 7.85130e+00, 2.60260e+00,\n",
       "        3.30500e+00, 5.78310e+00, 1.74571e+01, 1.10939e+01, 1.64212e+01,\n",
       "        1.11579e+01, 1.50160e+00, 3.63650e+00, 1.14973e+01, 1.51550e+01,\n",
       "        4.46590e+00, 1.78912e+01, 3.87290e+00, 2.20250e+00, 1.37159e+01,\n",
       "        3.03720e+00, 1.04220e+01, 3.66960e+00, 1.28570e+00, 1.50530e+01,\n",
       "        4.17720e+00, 6.49450e+00, 1.96100e-01, 6.00860e+00, 1.75622e+01,\n",
       "        6.62140e+00, 1.70014e+01, 7.28800e-01, 9.00720e+00, 6.64570e+00,\n",
       "        8.48600e-01, 9.86720e+00, 1.26752e+01, 3.28450e+00, 1.74035e+01,\n",
       "        3.65490e+00, 9.85760e+00, 7.75820e+00, 1.83410e+01, 1.69416e+01,\n",
       "        1.82883e+01, 1.55794e+01, 7.68410e+00, 1.34201e+01, 1.78381e+01,\n",
       "        5.12100e+00, 5.43450e+00, 5.30180e+00, 5.77800e+00, 2.30500e+00,\n",
       "        1.16148e+01, 1.66934e+01, 1.88500e-01, 1.00129e+01, 6.69240e+00,\n",
       "        1.73011e+01, 1.87806e+01, 7.97100e-01, 1.62040e+00, 1.23113e+01,\n",
       "        1.25970e+00, 5.05080e+00, 1.32772e+01, 6.13520e+00, 8.07990e+00]],\n",
       "      dtype=float32)"
      ]
     },
     "execution_count": 21,
     "metadata": {},
     "output_type": "execute_result"
    }
   ],
   "source": [
    "x_train, y_train, x_test, y_test = split_dataset(x,y,ratio=0.8)\n",
    "x_train.T"
   ]
  },
  {
   "cell_type": "code",
   "execution_count": 19,
   "id": "663ab3e3",
   "metadata": {},
   "outputs": [
    {
     "data": {
      "text/plain": [
       "<matplotlib.collections.PathCollection at 0x17ca8c400>"
      ]
     },
     "execution_count": 19,
     "metadata": {},
     "output_type": "execute_result"
    },
    {
     "data": {
      "image/png": "[encoded data removed]",
      "text/plain": [
       "<Figure size 640x480 with 1 Axes>"
      ]
     },
     "metadata": {},
     "output_type": "display_data"
    }
   ],
   "source": [
    "plt.scatter(x_train, y_train)"
   ]
  },
  {
   "cell_type": "code",
   "execution_count": 13,
   "id": "291a1cd5",
   "metadata": {},
   "outputs": [
    {
     "ename": "NameError",
     "evalue": "name 'ratio' is not defined",
     "output_type": "error",
     "traceback": [
      "\u001b[0;31m---------------------------------------------------------------------------\u001b[0m",
      "\u001b[0;31mNameError\u001b[0m                                 Traceback (most recent call last)",
      "Cell \u001b[0;32mIn [13], line 5\u001b[0m\n\u001b[1;32m      3\u001b[0m data_XY \u001b[38;5;241m=\u001b[39m np\u001b[38;5;241m.\u001b[39mc_[X,Y]\n\u001b[1;32m      4\u001b[0m np\u001b[38;5;241m.\u001b[39mrandom\u001b[38;5;241m.\u001b[39mshuffle(data_XY)\n\u001b[0;32m----> 5\u001b[0m train_size \u001b[38;5;241m=\u001b[39m \u001b[38;5;28mint\u001b[39m(data_XY\u001b[38;5;241m.\u001b[39mshape[\u001b[38;5;241m0\u001b[39m] \u001b[38;5;241m*\u001b[39m \u001b[43mratio\u001b[49m)\n\u001b[1;32m      6\u001b[0m test_size \u001b[38;5;241m=\u001b[39m data_XY\u001b[38;5;241m.\u001b[39mshape[\u001b[38;5;241m0\u001b[39m] \u001b[38;5;241m-\u001b[39m train_size\n\u001b[1;32m      7\u001b[0m train_X \u001b[38;5;241m=\u001b[39m data_XY[\u001b[38;5;241m0\u001b[39m:train_size, \u001b[38;5;241m0\u001b[39m:\u001b[38;5;241m-\u001b[39m\u001b[38;5;241m1\u001b[39m]\n",
      "\u001b[0;31mNameError\u001b[0m: name 'ratio' is not defined"
     ]
    }
   ],
   "source": [
    "X=x.reshape((x.shape[0],1))\n",
    "Y= y.reshape((y.shape[0],1))\n",
    "data_XY = np.c_[X,Y]\n",
    "np.random.shuffle(data_XY)\n",
    "train_size = int(data_XY.shape[0] * ratio)\n",
    "test_size = data_XY.shape[0] - train_size\n",
    "train_X = data_XY[0:train_size, 0:-1]\n",
    "train_Y = data_XY[0:train_size, -1]"
   ]
  },
  {
   "cell_type": "code",
   "execution_count": 16,
   "id": "96010eb1",
   "metadata": {},
   "outputs": [
    {
     "data": {
      "text/plain": [
       "<matplotlib.collections.PathCollection at 0x17ca22b80>"
      ]
     },
     "execution_count": 16,
     "metadata": {},
     "output_type": "execute_result"
    },
    {
     "data": {
      "image/png": "[encoded data removed]",
      "text/plain": [
       "<Figure size 640x480 with 1 Axes>"
      ]
     },
     "metadata": {},
     "output_type": "display_data"
    }
   ],
   "source": [
    "plt.scatter(data_XY[:,0], data_XY[:,1])"
   ]
  },
  {
   "cell_type": "code",
   "execution_count": 15,
   "id": "379f1d82",
   "metadata": {},
   "outputs": [
    {
     "data": {
      "text/plain": [
       "array([[10.1495,  0.3478],\n",
       "       [ 6.504 , -0.1466],\n",
       "       [11.1813, -0.8595],\n",
       "       ...,\n",
       "       [10.7272, -0.3607],\n",
       "       [17.8203,  0.8745],\n",
       "       [16.4072, -0.3676]], dtype=float32)"
      ]
     },
     "execution_count": 15,
     "metadata": {},
     "output_type": "execute_result"
    }
   ],
   "source": [
    "data_XY"
   ]
  },
  {
   "cell_type": "code",
   "execution_count": null,
   "id": "c95ad6f9",
   "metadata": {},
   "outputs": [],
   "source": []
  }
 ],
 "metadata": {
  "kernelspec": {
   "display_name": "py38",
   "language": "python",
   "name": "py38"
  },
  "language_info": {
   "codemirror_mode": {
    "name": "ipython",
    "version": 3
   },
   "file_extension": ".py",
   "mimetype": "text/x-python",
   "name": "python",
   "nbconvert_exporter": "python",
   "pygments_lexer": "ipython3",
   "version": "3.8.9"
  }
 },
 "nbformat": 4,
 "nbformat_minor": 5
}
